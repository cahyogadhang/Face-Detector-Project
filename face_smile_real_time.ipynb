{
  "nbformat": 4,
  "nbformat_minor": 0,
  "metadata": {
    "colab": {
      "provenance": [],
      "toc_visible": true,
      "authorship_tag": "ABX9TyP2wmOKf0zQUbkWmVp/sm3F",
      "include_colab_link": true
    },
    "kernelspec": {
      "name": "python3",
      "display_name": "Python 3"
    },
    "language_info": {
      "name": "python"
    }
  },
  "cells": [
    {
      "cell_type": "markdown",
      "metadata": {
        "id": "view-in-github",
        "colab_type": "text"
      },
      "source": [
        "<a href=\"https://colab.research.google.com/github/cahyogadhang/Face-Detector-Project/blob/main/face_smile_real_time.ipynb\" target=\"_parent\"><img src=\"https://colab.research.google.com/assets/colab-badge.svg\" alt=\"Open In Colab\"/></a>"
      ]
    },
    {
      "cell_type": "markdown",
      "source": [
        "# Latihan 1"
      ],
      "metadata": {
        "id": "jNpEEhG67mAk"
      }
    },
    {
      "cell_type": "code",
      "source": [
        "import cv2\n",
        "import numpy as np\n",
        "\n",
        "face_cascade = cv2.CascadeClassifier(cv2.data.haarcascades + 'haarcascade_frontalface_default.xml')\n",
        "smile_cascade = cv2.CascadeClassifier(cv2.data.haarcascades + 'haarcascade_smile.xml')\n",
        "\n",
        "camera = cv2.VideoCapture(0)\n",
        "\n",
        "if not camera.isOpened():\n",
        "    print(\"Error: Kamera tidak terdeteksi!\")\n",
        "    exit()\n",
        "else:\n",
        "    print(\"Kamera berhasil dibuka.\")\n",
        "\n",
        "while True:\n",
        "    ret, img = camera.read()\n",
        "    if not ret:\n",
        "        print(\"Error: Gagal mengambil frame!\")\n",
        "        break\n",
        "\n",
        "    gray = cv2.cvtColor(img, cv2.COLOR_BGR2GRAY)\n",
        "\n",
        "    faces = face_cascade.detectMultiScale(gray, 1.1, 5)\n",
        "\n",
        "    for (x, y, w, h) in faces:\n",
        "        cv2.rectangle(img, (x, y), (x + w, y + h), (0, 255, 0), 2)\n",
        "        roi_gray = gray[y:y + h, x:x + w]\n",
        "        roi_color = img[y:y + h, x:x + w]\n",
        "\n",
        "        smiles = smile_cascade.detectMultiScale(roi_gray, 1.8, 20)\n",
        "        for (sx, sy, sw, sh) in smiles:\n",
        "            cv2.rectangle(roi_color, (sx, sy), (sx + sw, sy + sh), (0, 0, 255), 2)\n",
        "            cv2.putText(img, \"Smile\", (x, y - 10), cv2.FONT_HERSHEY_SIMPLEX, 0.9, (0, 255, 255), 2)\n",
        "\n",
        "    cv2.imshow(\"Face & Smile Detection\", img)\n",
        "\n",
        "    if cv2.waitKey(1) & 0xFF == ord('q'):\n",
        "        break\n",
        "\n",
        "camera.release()\n",
        "cv2.destroyAllWindows()"
      ],
      "metadata": {
        "id": "drmbvUaO7rk-"
      },
      "execution_count": null,
      "outputs": []
    }
  ]
}