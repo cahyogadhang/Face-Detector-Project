{
  "nbformat": 4,
  "nbformat_minor": 0,
  "metadata": {
    "colab": {
      "provenance": [],
      "toc_visible": true,
      "authorship_tag": "ABX9TyN094HBybsYG6W2j+Pwytyk",
      "include_colab_link": true
    },
    "kernelspec": {
      "name": "python3",
      "display_name": "Python 3"
    },
    "language_info": {
      "name": "python"
    }
  },
  "cells": [
    {
      "cell_type": "markdown",
      "metadata": {
        "id": "view-in-github",
        "colab_type": "text"
      },
      "source": [
        "<a href=\"https://colab.research.google.com/github/cahyogadhang/Face-Detector-Project/blob/main/face_detector_webcam.ipynb\" target=\"_parent\"><img src=\"https://colab.research.google.com/assets/colab-badge.svg\" alt=\"Open In Colab\"/></a>"
      ]
    },
    {
      "cell_type": "markdown",
      "source": [
        "# Praktikum 3"
      ],
      "metadata": {
        "id": "9B5Qb50Jx9QG"
      }
    },
    {
      "cell_type": "code",
      "source": [
        "import cv2\n",
        "import numpy as np\n",
        "\n",
        "faceDetect = cv2.CascadeClassifier(cv2.data.haarcascades + 'haarcascade_frontalface_default.xml')\n",
        "\n",
        "camera = cv2.VideoCapture(0)\n",
        "\n",
        "if not camera.isOpened():\n",
        "    print(\"Error: Kamera tidak terdeteksi!\")\n",
        "    exit()\n",
        "else:\n",
        "    print(\"Kamera berhasil dibuka.\")\n",
        "\n",
        "while True:\n",
        "    ret, img = camera.read()\n",
        "    if not ret:\n",
        "        print(\"Error: Gagal mengambil frame!\")\n",
        "        break\n",
        "\n",
        "    gray = cv2.cvtColor(img, cv2.COLOR_BGR2GRAY)\n",
        "\n",
        "    faces = faceDetect.detectMultiScale(gray, 1.1, 5)\n",
        "\n",
        "    for (x, y, w, h) in faces:\n",
        "        cv2.rectangle(img, (x, y), (x + w, y + h), (0, 255, 0), 2)\n",
        "\n",
        "    cv2.imshow(\"Face Detection\", img)\n",
        "\n",
        "    if cv2.waitKey(1) & 0xFF == ord('q'):\n",
        "        break\n",
        "\n",
        "camera.release()\n",
        "cv2.destroyAllWindows()"
      ],
      "metadata": {
        "id": "zHIer6YuyBZC"
      },
      "execution_count": null,
      "outputs": []
    }
  ]
}